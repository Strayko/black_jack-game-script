{
 "cells": [
  {
   "cell_type": "code",
   "execution_count": 2,
   "metadata": {},
   "outputs": [],
   "source": [
    "import random\n",
    "\n",
    "suits = ('Hearts', 'Diamonds', 'Spades', 'Clubs')\n",
    "ranks = ('Two', 'Three', 'Four', 'Five', 'Six', 'Seven', 'Eight', 'Nine', 'Ten', 'Jack', 'Queen', 'King', 'Ace')\n",
    "values = {'Two':2, 'Three':3, 'Four':4, 'Five':5, 'Six':6, 'Seven':7, 'Eight':8, 'Nine':9, 'Ten':10, 'Jack':10, 'Queen':10, 'King':10, 'Ace':11}\n",
    "\n",
    "playing = True"
   ]
  },
  {
   "cell_type": "code",
   "execution_count": 3,
   "metadata": {},
   "outputs": [],
   "source": [
    "class Card:\n",
    "    \n",
    "    def __init__(self,suit,rank):\n",
    "        self.suit = suit\n",
    "        self.rank = rank\n",
    "        \n",
    "    def __str__(self):\n",
    "        return self.rank + \" of \" + self.suit"
   ]
  },
  {
   "cell_type": "code",
   "execution_count": 4,
   "metadata": {},
   "outputs": [],
   "source": [
    "class Deck:\n",
    "    \n",
    "    def __init__(self):\n",
    "        self.deck = [] # start with an empty list\n",
    "        for suit in suits:\n",
    "            for rank in ranks:\n",
    "                self.deck.append(Card(suit,rank))\n",
    "    \n",
    "    def __str__(self):\n",
    "        deck_comp = ''\n",
    "        for card in self.deck:\n",
    "            deck_comp += '\\n' + card.__str__()\n",
    "        return \"The deck has: \" + deck_comp\n",
    "    \n",
    "    def shuffle(self):\n",
    "        random.shuffle(self.deck)\n",
    "        \n",
    "    def deal(self):\n",
    "        single_card = self.deck.pop()\n",
    "        return single_card"
   ]
  },
  {
   "cell_type": "code",
   "execution_count": 6,
   "metadata": {},
   "outputs": [
    {
     "name": "stdout",
     "output_type": "stream",
     "text": [
      "The deck has: \n",
      "Eight of Spades\n",
      "Two of Clubs\n",
      "Eight of Hearts\n",
      "Five of Hearts\n",
      "Ace of Diamonds\n",
      "Three of Clubs\n",
      "King of Diamonds\n",
      "Two of Diamonds\n",
      "Queen of Clubs\n",
      "Ten of Clubs\n",
      "King of Spades\n",
      "Ace of Spades\n",
      "Jack of Diamonds\n",
      "Four of Hearts\n",
      "Ten of Hearts\n",
      "Five of Clubs\n",
      "Seven of Hearts\n",
      "Six of Diamonds\n",
      "Two of Hearts\n",
      "Three of Diamonds\n",
      "Six of Hearts\n",
      "Six of Clubs\n",
      "Four of Spades\n",
      "Ten of Diamonds\n",
      "Ace of Hearts\n",
      "Ten of Spades\n",
      "Five of Spades\n",
      "Six of Spades\n",
      "Queen of Hearts\n",
      "Queen of Spades\n",
      "Seven of Diamonds\n",
      "King of Clubs\n",
      "Nine of Hearts\n",
      "Nine of Clubs\n",
      "Eight of Diamonds\n",
      "Queen of Diamonds\n",
      "King of Hearts\n",
      "Nine of Spades\n",
      "Nine of Diamonds\n",
      "Ace of Clubs\n",
      "Jack of Spades\n",
      "Seven of Clubs\n",
      "Three of Hearts\n",
      "Jack of Hearts\n",
      "Four of Diamonds\n",
      "Seven of Spades\n",
      "Four of Clubs\n",
      "Two of Spades\n",
      "Three of Spades\n",
      "Five of Diamonds\n",
      "Jack of Clubs\n",
      "Eight of Clubs\n"
     ]
    }
   ],
   "source": [
    "test_deck = Deck()\n",
    "test_deck.shuffle()\n",
    "print(test_deck)"
   ]
  },
  {
   "cell_type": "code",
   "execution_count": null,
   "metadata": {},
   "outputs": [],
   "source": []
  }
 ],
 "metadata": {
  "kernelspec": {
   "display_name": "Python 3",
   "language": "python",
   "name": "python3"
  },
  "language_info": {
   "codemirror_mode": {
    "name": "ipython",
    "version": 3
   },
   "file_extension": ".py",
   "mimetype": "text/x-python",
   "name": "python",
   "nbconvert_exporter": "python",
   "pygments_lexer": "ipython3",
   "version": "3.7.0"
  }
 },
 "nbformat": 4,
 "nbformat_minor": 2
}
